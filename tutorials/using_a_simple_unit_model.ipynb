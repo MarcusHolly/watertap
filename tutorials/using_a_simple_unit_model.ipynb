{
 "cells": [
  {
   "cell_type": "markdown",
   "id": "81ab54a4",
   "metadata": {
    "slideshow": {
     "slide_type": "slide"
    }
   },
   "source": [
    "\n",
    "# Using a Simple Custom Unit Model"
   ]
  },
  {
   "cell_type": "markdown",
   "id": "a7a1d0df",
   "metadata": {
    "slideshow": {
     "slide_type": "slide"
    }
   },
   "source": [
    "# Outline\n",
    "\n",
    "This demo will briefly describe and demonstrate how the parameter sweep tool in WaterTAP can be used for various technoeconomic analyses.\n",
    "\n",
    "1. Introduction to parameter sweep\n",
    "2. Software demonstration\n",
    "3. Advanced features"
   ]
  },
  {
   "cell_type": "code",
   "execution_count": 1,
   "id": "6d3117d7-aa84-426b-8174-b0d6ffd655de",
   "metadata": {},
   "outputs": [],
   "source": [
    "from pyomo.environ import ConcreteModel, assert_optimal_termination\n",
    "from pyomo.util.check_units import assert_units_consistent\n",
    "from idaes.core import FlowsheetBlock\n",
    "from idaes.core.util.model_statistics import degrees_of_freedom\n",
    "\n",
    "import idaes.core.util.scaling as iscale\n",
    "from watertap.core.solvers import get_solver\n",
    "\n",
    "import watertap.examples.custom_model_demo.simple_prop_pack as props\n",
    "%run creating_a_simple_unit_model.ipynb\n",
    "# from watertap.examples.custom_model_demo.simple_filter import Filtration\n",
    "\n",
    "\n",
    "def main():\n",
    "    # create model, flowsheet\n",
    "    m = ConcreteModel()\n",
    "    m.fs = FlowsheetBlock(dynamic=False)\n",
    "    # attach property package\n",
    "    m.fs.properties = props.PropParameterBlock()\n",
    "    # build the unit model\n",
    "    m.fs.filter = Filtration(property_package=m.fs.properties)\n",
    "\n",
    "    # display model\n",
    "    # note that there are the recovery and removal fraction variables are on m.fs.filter\n",
    "    # any variable that starts with a _ can be ignored, they are references\n",
    "    # note that are three separate state blocks on the model (properties_in, properties_out, properties_waste)\n",
    "    print(\"first display\")\n",
    "    m.fs.filter.display()\n",
    "\n",
    "    # now specify the model\n",
    "    # note there are 8 degrees of freedom\n",
    "    print(\"DOF before specifying:\", degrees_of_freedom(m.fs))\n",
    "\n",
    "    # specify the feed\n",
    "    m.fs.filter.properties_in[0].pressure.fix(2e5)\n",
    "    m.fs.filter.properties_in[0].temperature.fix(273.15 + 25)\n",
    "    m.fs.filter.properties_in[0].flow_mass_phase_comp[\"Liq\", \"H2O\"].fix(1)\n",
    "    m.fs.filter.properties_in[0].flow_mass_phase_comp[\"Liq\", \"NaCl\"].fix(0.035)\n",
    "    m.fs.filter.properties_in[0].flow_mass_phase_comp[\"Liq\", \"TSS\"].fix(120e-6)\n",
    "    # an alternative to setting the state variables at the state block is to use the port like below\n",
    "    # note that the time domain 0, is now accessed with the other indices, this is the case for ports\n",
    "    # m.fs.filter.inlet.pressure[0].fix(2e5)\n",
    "    # m.fs.filter.inlet.temperature[0].fix(273.15 + 25)\n",
    "    # m.fs.filter.inlet.flow_mass_phase_comp[0, 'Liq', 'H2O'].fix(1)\n",
    "    # m.fs.filter.inlet.flow_mass_phase_comp[0, 'Liq', 'NaCl'].fix(0.035)\n",
    "    # m.fs.filter.inlet.flow_mass_phase_comp[0, 'Liq', 'TSS'].fix(120e-6)\n",
    "\n",
    "    # specify the recovery or removal\n",
    "    m.fs.filter.removal_fraction_mass_phase_comp[\"Liq\", \"TSS\"].fix(0.9)\n",
    "    m.fs.filter.recovery_mass_phase_comp[\"Liq\", \"H2O\"].fix(0.97)\n",
    "    m.fs.filter.recovery_mass_phase_comp[\"Liq\", \"NaCl\"].fix(0.97)\n",
    "\n",
    "    # Currently the outlet pressure of the waste is unused (i.e. not used in any constraint) so it isn't counted in the\n",
    "    # degrees of freedom, but if we connected the waste to another unit model then the pressure would be used.\n",
    "    # So really the unit model has 9 DOF and I'm fixing the last one here.\n",
    "    m.fs.filter.properties_waste[0].pressure.fix(101325)\n",
    "    print(\"DOF after specifying:\", degrees_of_freedom(m.fs))\n",
    "\n",
    "    # the user should provide the scale for the flow rate, so that our tools can ensure the model is well scaled\n",
    "    # generally scaling factors should be such that if it is multiplied by the variable it will range between 0.01 and 100\n",
    "    m.fs.properties.set_default_scaling(\"flow_mass_phase_comp\", 1, index=(\"Liq\", \"H2O\"))\n",
    "    m.fs.properties.set_default_scaling(\n",
    "        \"flow_mass_phase_comp\", 1e2, index=(\"Liq\", \"NaCl\")\n",
    "    )\n",
    "    m.fs.properties.set_default_scaling(\n",
    "        \"flow_mass_phase_comp\", 1e4, index=(\"Liq\", \"TSS\")\n",
    "    )\n",
    "    iscale.calculate_scaling_factors(m.fs)  # this utility scales the model\n",
    "\n",
    "    # solving\n",
    "    assert_units_consistent(m)  # check that units are consistent\n",
    "    assert (\n",
    "        degrees_of_freedom(m) == 0\n",
    "    )  # check that the degrees of freedom are what we expect\n",
    "\n",
    "    solver = get_solver()\n",
    "    results = solver.solve(m, tee=False)\n",
    "    assert_optimal_termination(results)\n",
    "\n",
    "    print(\"second display\")\n",
    "    m.fs.filter.display()\n",
    "\n",
    "    return m\n"
   ]
  }
 ],
 "metadata": {
  "celltoolbar": "Slideshow",
  "kernelspec": {
   "display_name": "Python 3 (ipykernel)",
   "language": "python",
   "name": "python3"
  },
  "language_info": {
   "codemirror_mode": {
    "name": "ipython",
    "version": 3
   },
   "file_extension": ".py",
   "mimetype": "text/x-python",
   "name": "python",
   "nbconvert_exporter": "python",
   "pygments_lexer": "ipython3",
   "version": "3.11.5"
  },
  "rise": {
   "enable_chalkboard": true,
   "height": "100%",
   "scroll": true,
   "slidenumber": true,
   "theme": "simple"
  }
 },
 "nbformat": 4,
 "nbformat_minor": 5
}
